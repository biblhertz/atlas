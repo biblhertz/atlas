{
 "cells": [
  {
   "cell_type": "code",
   "execution_count": 1,
   "metadata": {},
   "outputs": [],
   "source": [
    "# read json of poses and convert to angles, to plot skeletons and find differences between angles. \n",
    "\n",
    "\n",
    "## This code needs a whole lot of RAM...\n",
    "\n",
    "\n",
    "#import all\n",
    "import numpy as np\n",
    "from matplotlib import pyplot as plt\n",
    "from sklearn import preprocessing\n",
    "from skimage import io, transform, color\n",
    "import json\n",
    "import tqdm, glob\n",
    "import os"
   ]
  },
  {
   "cell_type": "code",
   "execution_count": null,
   "metadata": {},
   "outputs": [],
   "source": []
  },
  {
   "cell_type": "code",
   "execution_count": 2,
   "metadata": {},
   "outputs": [],
   "source": [
    "# //     {0,  \"Nose\"},\n",
    "# //     {1,  \"Neck\"},\n",
    "# //     {2,  \"RShoulder\"},\n",
    "# //     {3,  \"RElbow\"},\n",
    "# //     {4,  \"RWrist\"},\n",
    "# //     {5,  \"LShoulder\"},\n",
    "# //     {6,  \"LElbow\"},\n",
    "# //     {7,  \"LWrist\"},\n",
    "# //     {8,  \"MidHip\"},\n",
    "# //     {9,  \"RHip\"},\n",
    "# //     {10, \"RKnee\"},\n",
    "# //     {11, \"RAnkle\"},\n",
    "# //     {12, \"LHip\"},\n",
    "# //     {13, \"LKnee\"},\n",
    "# //     {14, \"LAnkle\"},\n",
    "# //     {15, \"REye\"},\n",
    "# //     {16, \"LEye\"},\n",
    "# //     {17, \"REar\"},\n",
    "# //     {18, \"LEar\"},\n",
    "# //     {19, \"LBigToe\"},\n",
    "# //     {20, \"LSmallToe\"},\n",
    "# //     {21, \"LHeel\"},\n",
    "# //     {22, \"RBigToe\"},\n",
    "# //     {23, \"RSmallToe\"},\n",
    "# //     {24, \"RHeel\"},\n",
    "# //     {25, \"Background\"}\n",
    "# // };\n",
    "\n",
    "# x1,y1,c1,x2,y2,c2,.... where C is confidence score. "
   ]
  },
  {
   "cell_type": "code",
   "execution_count": 3,
   "metadata": {},
   "outputs": [],
   "source": [
    "AngleIndex = [[0,1],[1,2],[2,3],[3,4],[1,5],[5,6],[6,7],[1,8],[8,9],[9,10],[10,11],[8,12],[12,13],[13,14]]"
   ]
  },
  {
   "cell_type": "code",
   "execution_count": null,
   "metadata": {},
   "outputs": [],
   "source": []
  },
  {
   "cell_type": "code",
   "execution_count": 4,
   "metadata": {},
   "outputs": [],
   "source": [
    "def getAllPoses(folder):\n",
    "    \n",
    "    all_json_files = glob.glob(folder + '/*.json')\n",
    "    filenames_per_pose = []\n",
    "    all_pose_xy = []\n",
    "\n",
    "    for fn in tqdm.tqdm(all_json_files):\n",
    "        with open(fn) as json_file:  \n",
    "            data = json.load(json_file)\n",
    "            for p in data['people']:\n",
    "                pose_coords = p['pose_keypoints_2d']\n",
    "\n",
    "                pose_xy = np.zeros((25,2))\n",
    "\n",
    "                for i in range(25):\n",
    "                    pose_xy[i,0]  =  pose_coords[int(3*i)]\n",
    "                    pose_xy[i,1]  =  pose_coords[int( 1 + 3*i)]\n",
    "\n",
    "                all_pose_xy.append(pose_xy)\n",
    "                filenames_per_pose.append(fn)\n",
    "                \n",
    "\n",
    "    all_pose_xy = np.asarray(all_pose_xy)\n",
    "\n",
    "    return all_pose_xy, filenames_per_pose"
   ]
  },
  {
   "cell_type": "code",
   "execution_count": null,
   "metadata": {},
   "outputs": [],
   "source": []
  },
  {
   "cell_type": "code",
   "execution_count": 5,
   "metadata": {},
   "outputs": [],
   "source": [
    "def extractAngles(all_pose_xy,AngleIndex=AngleIndex):\n",
    "\n",
    "    # Conversion to angles... \n",
    "    all_angles = []\n",
    "\n",
    "    for k in range(all_pose_xy.shape[0]):\n",
    "        datapoint = all_pose_xy[k,:]\n",
    "\n",
    "        \n",
    "        angles = []\n",
    "\n",
    "        for p in AngleIndex:\n",
    "            pi = p[0]\n",
    "            pj = p[1]\n",
    "            vector = datapoint[pi,:] - datapoint[pj,:]\n",
    "            angle = np.arctan2(vector[1],vector[0])*(180/np.pi)\n",
    "            \n",
    "            if (datapoint[pi,:]==[0,0]).any() or (datapoint[pj,:]==[0,0]).any():\n",
    "                angle = 361\n",
    "            \n",
    "            angles.append(angle)\n",
    "            \n",
    "\n",
    "\n",
    "\n",
    "        all_angles.append(angles)\n",
    "        \n",
    "    return np.asarray(all_angles)"
   ]
  },
  {
   "cell_type": "code",
   "execution_count": null,
   "metadata": {},
   "outputs": [],
   "source": []
  },
  {
   "cell_type": "code",
   "execution_count": null,
   "metadata": {},
   "outputs": [],
   "source": []
  },
  {
   "cell_type": "code",
   "execution_count": null,
   "metadata": {},
   "outputs": [],
   "source": []
  },
  {
   "cell_type": "code",
   "execution_count": 20,
   "metadata": {},
   "outputs": [],
   "source": [
    "source_image_folder = '/media/leonardo/DATA/Annunciation_Baptism/Annunciation/all_full_images/'"
   ]
  },
  {
   "cell_type": "code",
   "execution_count": 7,
   "metadata": {},
   "outputs": [
    {
     "data": {
      "text/plain": [
       "0"
      ]
     },
     "execution_count": 7,
     "metadata": {},
     "output_type": "execute_result"
    }
   ],
   "source": [
    "os.system('rm -rf ./pose-json/*')"
   ]
  },
  {
   "cell_type": "code",
   "execution_count": 8,
   "metadata": {},
   "outputs": [
    {
     "data": {
      "text/plain": [
       "0"
      ]
     },
     "execution_count": 8,
     "metadata": {},
     "output_type": "execute_result"
    }
   ],
   "source": [
    "os.system('rm -rf ./output/*')"
   ]
  },
  {
   "cell_type": "code",
   "execution_count": 9,
   "metadata": {},
   "outputs": [
    {
     "data": {
      "text/plain": [
       "0"
      ]
     },
     "execution_count": 9,
     "metadata": {},
     "output_type": "execute_result"
    }
   ],
   "source": [
    "os.system('./makePoseJsons.sh  ' + '\"' + source_image_folder + '\"')"
   ]
  },
  {
   "cell_type": "code",
   "execution_count": null,
   "metadata": {},
   "outputs": [],
   "source": []
  },
  {
   "cell_type": "code",
   "execution_count": 10,
   "metadata": {},
   "outputs": [
    {
     "name": "stderr",
     "output_type": "stream",
     "text": [
      "100%|██████████| 3039/3039 [00:00<00:00, 10768.67it/s]\n"
     ]
    }
   ],
   "source": [
    "[all_pose_xy, filenames_per_pose] = getAllPoses('./pose-json/')\n",
    "\n"
   ]
  },
  {
   "cell_type": "code",
   "execution_count": null,
   "metadata": {},
   "outputs": [],
   "source": []
  },
  {
   "cell_type": "code",
   "execution_count": null,
   "metadata": {},
   "outputs": [],
   "source": []
  },
  {
   "cell_type": "code",
   "execution_count": 11,
   "metadata": {},
   "outputs": [
    {
     "data": {
      "text/plain": [
       "array([ 98.5351, 110.098 , 114.935 , 136.127 , 128.009 , 105.105 ,\n",
       "       111.626 , 110.027 , 147.667 , 150.894 , 152.563 ,   0.    ,\n",
       "       141.127 , 152.566 ,   0.    ,  96.9713,  95.3086,  98.6375,\n",
       "        93.7003,   0.    ,   0.    ,   0.    ,   0.    ,   0.    ,\n",
       "         0.    ])"
      ]
     },
     "execution_count": 11,
     "metadata": {},
     "output_type": "execute_result"
    }
   ],
   "source": [
    "all_pose_xy[3,:,1]"
   ]
  },
  {
   "cell_type": "code",
   "execution_count": 34,
   "metadata": {},
   "outputs": [],
   "source": [
    "def get_pose_images(all_pose_xy, filenames_per_pose, source_image_folder):\n",
    "    \n",
    "    all_ims = []\n",
    "    \n",
    "    for ii in tqdm.tqdm(range(all_pose_xy.shape[0])):\n",
    "        image_fn = glob.glob(source_image_folder + filenames_per_pose[ii].split('_keypoint')[0].split('/')[-1] + '*')[0]\n",
    "#         print(image_fn)\n",
    "        tmpim = io.imread(image_fn)\n",
    "        \n",
    "        if len(tmpim.shape) == 2:\n",
    "            tmpim = color.gray2rgb(tmpim)\n",
    "        \n",
    "        xall = all_pose_xy[ii,:,0]\n",
    "        xall = [x for x in xall if x != 0]\n",
    "        xmin = int(np.min(xall))\n",
    "        xmax = int(np.max(xall))\n",
    "        \n",
    "        yall = all_pose_xy[ii,:,1]\n",
    "        yall = [x for x in yall if x != 0]\n",
    "        ymin = int(np.min(yall))\n",
    "        ymax = int(np.max(yall))\n",
    "        \n",
    "        tmpim = tmpim[ymin:ymax,xmin:xmax,:]\n",
    "        \n",
    "        all_ims.append(tmpim)\n",
    "        \n",
    "    return all_ims\n",
    " "
   ]
  },
  {
   "cell_type": "code",
   "execution_count": null,
   "metadata": {},
   "outputs": [],
   "source": []
  },
  {
   "cell_type": "code",
   "execution_count": null,
   "metadata": {},
   "outputs": [],
   "source": []
  },
  {
   "cell_type": "code",
   "execution_count": null,
   "metadata": {},
   "outputs": [],
   "source": []
  },
  {
   "cell_type": "code",
   "execution_count": null,
   "metadata": {},
   "outputs": [],
   "source": []
  },
  {
   "cell_type": "code",
   "execution_count": null,
   "metadata": {},
   "outputs": [],
   "source": []
  },
  {
   "cell_type": "code",
   "execution_count": null,
   "metadata": {},
   "outputs": [],
   "source": []
  },
  {
   "cell_type": "code",
   "execution_count": 13,
   "metadata": {},
   "outputs": [],
   "source": [
    "def angVecDist(V1, V2):\n",
    "    \n",
    "    dist = 0\n",
    "    \n",
    "    for i,v in enumerate(V1):\n",
    "        w = V2[i]\n",
    "        angdiff = np.min([360 - np.abs(v-w), np.abs(v-w)])\n",
    "        dist += angdiff\n",
    "    \n",
    "    return dist\n",
    "\n",
    "def angVecDistFast(V1,V2):\n",
    "    \n",
    "#     Assume these are already arrays (hence commented out)\n",
    "#     V1 = np.asarray(V1)\n",
    "#     V2 = np.asarray(V2)\n",
    "    \n",
    "    D1 = np.abs(V1-V2)\n",
    "    TSX = 360*np.ones(V1.shape)\n",
    "    D2 = np.abs(TSX-D1)\n",
    "    \n",
    "    DM = np.minimum(D1,D2)\n",
    "    \n",
    "    return np.sum(DM)\n",
    "\n",
    "def angleDistMatrix(gestureAngles):\n",
    "    \n",
    "    L = gestureAngles.shape[0]\n",
    "    distMat = np.zeros((L,L))\n",
    "    \n",
    "    for i in range(L):\n",
    "        for j in range(L):\n",
    "            \n",
    "            distMat[i,j] = angVecDistFast(gestureAngles[i,:],gestureAngles[j,:])\n",
    "            \n",
    "    return distMat\n",
    "    "
   ]
  },
  {
   "cell_type": "code",
   "execution_count": null,
   "metadata": {},
   "outputs": [],
   "source": []
  },
  {
   "cell_type": "code",
   "execution_count": 14,
   "metadata": {},
   "outputs": [],
   "source": [
    "gestures = {}\n",
    "\n",
    "gestures['image_folder'] = source_image_folder\n",
    "\n",
    "gestures['all'] = {}\n",
    "gestures['all']['xy'] = all_pose_xy\n",
    "gestures['all']['json_files'] = filenames_per_pose\n",
    "gestures['all']['angles'] = extractAngles(gestures['all']['xy'])"
   ]
  },
  {
   "cell_type": "code",
   "execution_count": 15,
   "metadata": {},
   "outputs": [
    {
     "name": "stdout",
     "output_type": "stream",
     "text": [
      "47.399296050058666\n"
     ]
    }
   ],
   "source": [
    "## select only entirely recognised gestures. \n",
    "\n",
    "validGestures = []\n",
    "for i in range(gestures['all']['angles'].shape[0]):\n",
    "    invalid = (gestures['all']['angles'][i,:] >360).any()\n",
    "    validGestures.append(~invalid)\n",
    "# Percentage of valid poses (with all limbs recognised)...\n",
    "print(100*np.mean(validGestures) )"
   ]
  },
  {
   "cell_type": "code",
   "execution_count": 16,
   "metadata": {},
   "outputs": [],
   "source": [
    "## Now we make a square distance matrix for the valid poses. \n",
    "\n",
    "gestures['valid'] = {}\n",
    "gestures['valid']['selector'] = validGestures\n",
    "gestures['valid']['xy'] = gestures['all']['xy'][gestures['valid']['selector'],:,:]\n",
    "Lvalid = gestures['valid']['xy'].shape[0]   #this is leet"
   ]
  },
  {
   "cell_type": "code",
   "execution_count": 17,
   "metadata": {},
   "outputs": [],
   "source": [
    "filenames_valid = [filenames_per_pose[i] for i in range(len(filenames_per_pose)) if validGestures[i]]\n",
    "gestures['valid']['json_files'] = filenames_valid"
   ]
  },
  {
   "cell_type": "code",
   "execution_count": 18,
   "metadata": {},
   "outputs": [],
   "source": [
    "gestures['valid']['angles'] = gestures['all']['angles'][validGestures,:]\n",
    "gestures['valid']['distmat'] = angleDistMatrix(gestures['valid']['angles'])\n"
   ]
  },
  {
   "cell_type": "code",
   "execution_count": null,
   "metadata": {},
   "outputs": [],
   "source": []
  },
  {
   "cell_type": "code",
   "execution_count": null,
   "metadata": {},
   "outputs": [],
   "source": [
    "\n"
   ]
  },
  {
   "cell_type": "code",
   "execution_count": null,
   "metadata": {},
   "outputs": [],
   "source": []
  },
  {
   "cell_type": "code",
   "execution_count": 35,
   "metadata": {
    "scrolled": true
   },
   "outputs": [
    {
     "name": "stderr",
     "output_type": "stream",
     "text": [
      "100%|██████████| 2424/2424 [00:45<00:00, 53.85it/s]\n"
     ]
    }
   ],
   "source": [
    "imlist = get_pose_images(gestures['valid']['xy'], gestures['valid']['json_files'], gestures['image_folder'])\n",
    "gestures['valid']['images'] = imlist"
   ]
  },
  {
   "cell_type": "code",
   "execution_count": 36,
   "metadata": {},
   "outputs": [
    {
     "data": {
      "text/plain": [
       "<matplotlib.image.AxesImage at 0x7fa2f8066be0>"
      ]
     },
     "execution_count": 36,
     "metadata": {},
     "output_type": "execute_result"
    },
    {
     "data": {
      "image/png": "[encoded data removed]",
      "text/plain": [
       "<Figure size 432x288 with 1 Axes>"
      ]
     },
     "metadata": {},
     "output_type": "display_data"
    }
   ],
   "source": [
    "plt.imshow(imlist[np.random.randint(len(imlist))])"
   ]
  },
  {
   "cell_type": "code",
   "execution_count": null,
   "metadata": {},
   "outputs": [],
   "source": []
  },
  {
   "cell_type": "code",
   "execution_count": null,
   "metadata": {},
   "outputs": [],
   "source": []
  },
  {
   "cell_type": "code",
   "execution_count": 37,
   "metadata": {},
   "outputs": [
    {
     "data": {
      "text/plain": [
       "<matplotlib.image.AxesImage at 0x7fa2fb814828>"
      ]
     },
     "execution_count": 37,
     "metadata": {},
     "output_type": "execute_result"
    },
    {
     "data": {
      "image/png": "[encoded data removed]",
      "text/plain": [
       "<Figure size 432x288 with 1 Axes>"
      ]
     },
     "metadata": {},
     "output_type": "display_data"
    }
   ],
   "source": [
    "plt.imshow(gestures['valid']['distmat'])"
   ]
  },
  {
   "cell_type": "code",
   "execution_count": null,
   "metadata": {},
   "outputs": [],
   "source": []
  },
  {
   "cell_type": "code",
   "execution_count": null,
   "metadata": {},
   "outputs": [],
   "source": []
  },
  {
   "cell_type": "code",
   "execution_count": null,
   "metadata": {},
   "outputs": [],
   "source": []
  },
  {
   "cell_type": "code",
   "execution_count": null,
   "metadata": {},
   "outputs": [],
   "source": []
  },
  {
   "cell_type": "markdown",
   "metadata": {},
   "source": [
    "## From here down, we're just visualising"
   ]
  },
  {
   "cell_type": "code",
   "execution_count": null,
   "metadata": {},
   "outputs": [],
   "source": []
  },
  {
   "cell_type": "code",
   "execution_count": null,
   "metadata": {},
   "outputs": [],
   "source": []
  },
  {
   "cell_type": "code",
   "execution_count": null,
   "metadata": {},
   "outputs": [],
   "source": []
  },
  {
   "cell_type": "code",
   "execution_count": null,
   "metadata": {},
   "outputs": [],
   "source": []
  },
  {
   "cell_type": "code",
   "execution_count": 38,
   "metadata": {},
   "outputs": [],
   "source": [
    "from sklearn.manifold import TSNE\n",
    "from sklearn.cluster import KMeans\n",
    "from sklearn.metrics import pairwise_distances_argmin_min\n",
    "from os.path import join\n",
    "import codecs\n",
    "\n",
    "mytsne = TSNE(n_components=2, metric='precomputed')"
   ]
  },
  {
   "cell_type": "code",
   "execution_count": 39,
   "metadata": {},
   "outputs": [],
   "source": [
    "xy_plot = mytsne.fit_transform(gestures['valid']['distmat'])"
   ]
  },
  {
   "cell_type": "code",
   "execution_count": null,
   "metadata": {},
   "outputs": [],
   "source": []
  },
  {
   "cell_type": "code",
   "execution_count": 40,
   "metadata": {},
   "outputs": [],
   "source": [
    "def get_magick_command(cmd):\n",
    "    '''\n",
    "    Return the specified imagemagick command prefaced with magick if\n",
    "    the user is on Windows\n",
    "    '''\n",
    "    if os.name == 'nt':\n",
    "        return 'magick ' + cmd\n",
    "    return cmd\n",
    "\n",
    "def filepath2name(filepath):\n",
    "    return os.path.basename(filepath).split('.')[0]\n",
    "\n",
    "def ensure_dir_exists(directory):\n",
    "    '''\n",
    "    Create the input directory if it doesn't exist\n",
    "    '''\n",
    "    if not os.path.exists(directory):\n",
    "        os.makedirs(directory)\n",
    "\n",
    "def subdivide(l, n):\n",
    "    '''\n",
    "    Return n-sized sublists from iterable l\n",
    "    '''\n",
    "    n = int(n)\n",
    "    for i in range(0, len(l), n):\n",
    "        yield l[i:i + n]\n",
    "\n",
    "class PixPlotPose:\n",
    "    \n",
    "    def __init__(self, list_of_images, xyCoords):\n",
    "        self.output_dir = './output/'\n",
    "#         self.sizes = [16, 32]\n",
    "        self.sizes = [16, 32, 64, 128]\n",
    "        self.list_of_images = list_of_images\n",
    "        self.nImages = len(list_of_images)\n",
    "        self.xyCoords = xyCoords\n",
    "        self.thumb_filenames = []\n",
    "        self.thumb_sizes = []\n",
    "        self.n_clusters = 20\n",
    "\n",
    "    def create_output_dirs(self):\n",
    "        '''\n",
    "        Create each of the required output dirs\n",
    "        '''\n",
    "        dirs = ['image_vectors', 'atlas_files', 'thumbs']\n",
    "        for i in dirs:\n",
    "            ensure_dir_exists( join(self.output_dir, i) )\n",
    "        # make subdirectories for each image thumb size\n",
    "        for i in self.sizes:\n",
    "            ensure_dir_exists( join(self.output_dir, 'thumbs', str(i) + 'px') )\n",
    "\n",
    "    def save_thumbs(self):\n",
    "#         image_sizes=[]\n",
    "        for size in self.sizes:\n",
    "            outpath = self.output_dir + 'thumbs/' + str(size) + 'px/'\n",
    "            L = len(self.list_of_images)\n",
    "            for i in range(L):\n",
    "                outimage = self.list_of_images[i]\n",
    "                \n",
    "                if outimage.shape[0] > outimage.shape[1]:\n",
    "                    outsize = [size, np.ceil(float(size)*outimage.shape[1]/outimage.shape[0])]\n",
    "                else:\n",
    "                    outsize = [np.ceil(float(size)*outimage.shape[0]/outimage.shape[1]), size]\n",
    "#                 image_sizes.append(outsize)\n",
    "#                 print(outsize)\n",
    "#                 little hack for tiny images:\n",
    "                tinyim = 0\n",
    "                for k,a in enumerate(outsize):\n",
    "                    if a == 0:\n",
    "                        tinyim = 1\n",
    "#                         print(i)\n",
    "#                 print(outsize)\n",
    "                if size == self.sizes[1]:\n",
    "                    self.thumb_filenames.append(outpath+str(i)+'.jpg')\n",
    "                    self.thumb_sizes.append(outsize)\n",
    "\n",
    "                if not tinyim:\n",
    "                    io.imsave(outpath+str(i)+'.jpg', transform.resize(outimage,outsize)) # add ,anti_aliasing=True\n",
    "                if tinyim:\n",
    "#                     rather than adding an exception, just make a black image here for now. \n",
    "                    if size == self.sizes[0]:\n",
    "                        print('Image ' + str(i) + ' is impossible - making blank image')\n",
    "                    almostBlankImage =  np.random.rand(size,size,3)\n",
    "                    \n",
    "                    io.imsave(outpath+str(i)+'.jpg',almostBlankImage)\n",
    "            \n",
    "            \n",
    "    def get_centroids(self):\n",
    "#         '''distmat\n",
    "#         Use KMeans clustering to find n centroid images\n",
    "#         that represent the center of an image cluster\n",
    "#         '''\n",
    "#         print(' * calculating ' + str(self.n_clusters) + ' clusters')\n",
    "        model = KMeans(n_clusters=self.n_clusters)\n",
    "        X = np.array(self.xyCoords)\n",
    "        fit_model = model.fit(X)\n",
    "        centroids = fit_model.cluster_centers_\n",
    "#         # find the points closest to the cluster centroids\n",
    "        closest, _ = pairwise_distances_argmin_min(centroids, X)\n",
    "#         centroid_paths = [self.vector_files[i] for i in closest]\n",
    "        centroid_json = []\n",
    "#         for c, i in enumerate(centroid_paths):\n",
    "        for i, closest in enumerate(closest):\n",
    "            centroid_json.append({\n",
    "#               'img': get_filename(i),\n",
    "#               'label': 'Cluster ' + str(c+1)\n",
    "              'img': str(closest) + '.jpg',\n",
    "              'label': 'Cluster ' + str(i+1)\n",
    "            })\n",
    "        return centroid_json\n",
    "\n",
    "    \n",
    "    def get_image_positions(self):\n",
    "        '''\n",
    "        Write a JSON file that indicates the 2d position of each image\n",
    "        '''\n",
    "        print(' * writing JSON file')\n",
    "        image_positions = []\n",
    "        for i, coord in enumerate(self.xyCoords):\n",
    "            height, width = self.thumb_sizes[i]\n",
    "\n",
    "            image_positions.append([\n",
    "              filepath2name(self.thumb_filenames[i]),\n",
    "              int(coord[0] * 5),\n",
    "              int(coord[1] * 5),\n",
    "              width,\n",
    "              height\n",
    "            ])\n",
    "        return image_positions\n",
    "    \n",
    "    \n",
    "    \n",
    "    def get_atlas_counts(self):\n",
    "        file_count = self.nImages\n",
    "        return {\n",
    "          '32px': np.ceil( file_count / (64**2) ),\n",
    "          '64px': np.ceil( file_count / (32**2) ),\n",
    "          '128px': np.ceil( file_count / (16**2) ),\n",
    "          '256px': np.ceil( file_count / (8**2) ),\n",
    "          '512px': np.ceil( file_count / (4**2) )\n",
    "        }\n",
    "\n",
    "    def write_json(self):\n",
    "        '''\n",
    "        Write a JSON file with image positions, the number of atlas files\n",
    "        in each size, and the centroids of the k means clusters\n",
    "        '''\n",
    "        print(' * writing main JSON plot data file')\n",
    "        out_path = join(self.output_dir, 'plot_data.json')\n",
    "        with open(out_path, 'w') as out:\n",
    "            json.dump({\n",
    "              'centroids': self.get_centroids(),\n",
    "              'positions': self.get_image_positions(),\n",
    "              'atlas_counts': self.get_atlas_counts(),\n",
    "            }, out)\n",
    "\n",
    "    def create_atlas_files(self):\n",
    "        '''\n",
    "        Create image atlas files in each required size\n",
    "        '''\n",
    "        print(' * creating atlas files')\n",
    "        atlas_group_imgs = []\n",
    "        for thumb_size in self.sizes:\n",
    "            # identify the images for this atlas group\n",
    "            atlas_thumbs = self.get_atlas_thumbs(thumb_size)\n",
    "            atlas_group_imgs.append(len(atlas_thumbs))\n",
    "            self.write_atlas_files(thumb_size, atlas_thumbs)\n",
    "        # assert all image atlas files have the same number of images\n",
    "        assert all(i == atlas_group_imgs[0] for i in atlas_group_imgs)\n",
    "\n",
    "\n",
    "    def get_atlas_thumbs(self, thumb_size):\n",
    "        thumbs = []\n",
    "        thumb_dir = join(self.output_dir, 'thumbs', str(thumb_size) + 'px')\n",
    "        with open(join(self.output_dir, 'plot_data.json')) as f:\n",
    "            for i in json.load(f)['positions']:\n",
    "                thumbs.append( join(thumb_dir, i[0] + '.jpg') )\n",
    "        return thumbs\n",
    "\n",
    "    def write_atlas_files(self, thumb_size, image_thumbs):\n",
    "        '''\n",
    "        Given a thumb_size (int) and image_thumbs [file_path],\n",
    "        write the total number of required atlas files at this size\n",
    "        '''\n",
    "        # build a directory for the atlas files\n",
    "        out_dir = join(self.output_dir, 'atlas_files', str(thumb_size) + 'px')\n",
    "        ensure_dir_exists(out_dir)\n",
    "\n",
    "        # specify number of columns in a 2048 x 2048px texture\n",
    "        atlas_cols = 2048/thumb_size\n",
    "\n",
    "        # subdivide the image thumbs into groups\n",
    "        atlas_image_groups = subdivide(image_thumbs, atlas_cols**2)\n",
    "\n",
    "        # generate a directory for images at this size if it doesn't exist\n",
    "        for idx, atlas_images in enumerate(atlas_image_groups):\n",
    "            print(' * creating atlas', idx + 1, 'at size', thumb_size)\n",
    "            out_path = join(out_dir, 'atlas-' + str(idx) + '.jpg')\n",
    "            # write a file containing a list of images for the current montage\n",
    "            tmp_file_path = join(self.output_dir, 'images_to_montage.txt')\n",
    "            with codecs.open(tmp_file_path, 'w', encoding='utf-8') as out:\n",
    "                # python 2\n",
    "                try:\n",
    "                    out.write('\\n'.join(map('\"{0}\"'.decode('utf-8').format, atlas_images)))\n",
    "                # python 3\n",
    "                except AttributeError:\n",
    "                    out.write('\\n'.join(map('\"{0}\"'.format, atlas_images)))\n",
    "\n",
    "            # build the imagemagick command to montage the images\n",
    "            cmd =  get_magick_command('montage') + ' @' + tmp_file_path + ' '\n",
    "            cmd += '-background none '\n",
    "            cmd += '-size ' + str(thumb_size) + 'x' + str(thumb_size) + ' '\n",
    "            cmd += '-geometry ' + str(thumb_size) + 'x' + str(thumb_size) + '+0+0 '\n",
    "            cmd += '-tile ' + str(atlas_cols) + 'x' + str(atlas_cols) + ' '\n",
    "            cmd += '-quality 85 '\n",
    "            cmd += '-sampling-factor 4:2:0 '\n",
    "            cmd += '\"' + out_path + '\"'\n",
    "            os.system(cmd)\n",
    "\n",
    "        # delete the last images to montage file\n",
    "#         try:\n",
    "#             os.remove(tmp_file_path)\n",
    "#         except Exception:\n",
    "#             pass\n"
   ]
  },
  {
   "cell_type": "code",
   "execution_count": null,
   "metadata": {},
   "outputs": [],
   "source": []
  },
  {
   "cell_type": "code",
   "execution_count": 41,
   "metadata": {},
   "outputs": [],
   "source": [
    "PPP = PixPlotPose(gestures['valid']['images'], xy_plot)\n",
    "PPP.create_output_dirs()"
   ]
  },
  {
   "cell_type": "code",
   "execution_count": 42,
   "metadata": {},
   "outputs": [
    {
     "name": "stderr",
     "output_type": "stream",
     "text": [
      "/home/leonardo/.conda/envs/tensorflow/lib/python3.5/site-packages/skimage/transform/_warps.py:105: UserWarning: The default mode, 'constant', will be changed to 'reflect' in skimage 0.15.\n",
      "  warn(\"The default mode, 'constant', will be changed to 'reflect' in \"\n",
      "/home/leonardo/.conda/envs/tensorflow/lib/python3.5/site-packages/skimage/transform/_warps.py:110: UserWarning: Anti-aliasing will be enabled by default in skimage 0.15 to avoid aliasing artifacts when down-sampling images.\n",
      "  warn(\"Anti-aliasing will be enabled by default in skimage 0.15 to \"\n",
      "/home/leonardo/.conda/envs/tensorflow/lib/python3.5/site-packages/skimage/util/dtype.py:130: UserWarning: Possible precision loss when converting from float64 to uint8\n",
      "  .format(dtypeobj_in, dtypeobj_out))\n"
     ]
    },
    {
     "name": "stdout",
     "output_type": "stream",
     "text": [
      "Image 357 is impossible - making blank image\n",
      "Image 742 is impossible - making blank image\n",
      "Image 1799 is impossible - making blank image\n",
      "Image 1800 is impossible - making blank image\n"
     ]
    }
   ],
   "source": [
    "PPP.save_thumbs()"
   ]
  },
  {
   "cell_type": "code",
   "execution_count": null,
   "metadata": {},
   "outputs": [],
   "source": []
  },
  {
   "cell_type": "code",
   "execution_count": 43,
   "metadata": {},
   "outputs": [
    {
     "name": "stdout",
     "output_type": "stream",
     "text": [
      " * writing main JSON plot data file\n",
      " * writing JSON file\n"
     ]
    }
   ],
   "source": [
    "PPP.write_json()"
   ]
  },
  {
   "cell_type": "code",
   "execution_count": null,
   "metadata": {},
   "outputs": [],
   "source": []
  },
  {
   "cell_type": "code",
   "execution_count": 44,
   "metadata": {},
   "outputs": [
    {
     "name": "stdout",
     "output_type": "stream",
     "text": [
      " * creating atlas files\n",
      " * creating atlas 1 at size 16\n",
      " * creating atlas 1 at size 32\n",
      " * creating atlas 1 at size 64\n",
      " * creating atlas 2 at size 64\n",
      " * creating atlas 3 at size 64\n",
      " * creating atlas 1 at size 128\n",
      " * creating atlas 2 at size 128\n",
      " * creating atlas 3 at size 128\n",
      " * creating atlas 4 at size 128\n",
      " * creating atlas 5 at size 128\n",
      " * creating atlas 6 at size 128\n",
      " * creating atlas 7 at size 128\n",
      " * creating atlas 8 at size 128\n",
      " * creating atlas 9 at size 128\n",
      " * creating atlas 10 at size 128\n"
     ]
    }
   ],
   "source": [
    "PPP.create_atlas_files()"
   ]
  },
  {
   "cell_type": "code",
   "execution_count": null,
   "metadata": {},
   "outputs": [],
   "source": []
  },
  {
   "cell_type": "code",
   "execution_count": null,
   "metadata": {},
   "outputs": [],
   "source": []
  },
  {
   "cell_type": "code",
   "execution_count": null,
   "metadata": {},
   "outputs": [],
   "source": []
  },
  {
   "cell_type": "code",
   "execution_count": null,
   "metadata": {},
   "outputs": [],
   "source": []
  },
  {
   "cell_type": "code",
   "execution_count": null,
   "metadata": {},
   "outputs": [],
   "source": []
  },
  {
   "cell_type": "code",
   "execution_count": null,
   "metadata": {},
   "outputs": [],
   "source": []
  },
  {
   "cell_type": "code",
   "execution_count": null,
   "metadata": {},
   "outputs": [],
   "source": []
  },
  {
   "cell_type": "code",
   "execution_count": null,
   "metadata": {},
   "outputs": [],
   "source": []
  },
  {
   "cell_type": "code",
   "execution_count": null,
   "metadata": {},
   "outputs": [],
   "source": []
  },
  {
   "cell_type": "code",
   "execution_count": null,
   "metadata": {},
   "outputs": [],
   "source": []
  },
  {
   "cell_type": "code",
   "execution_count": null,
   "metadata": {},
   "outputs": [],
   "source": []
  },
  {
   "cell_type": "code",
   "execution_count": null,
   "metadata": {},
   "outputs": [],
   "source": []
  },
  {
   "cell_type": "code",
   "execution_count": null,
   "metadata": {},
   "outputs": [],
   "source": []
  },
  {
   "cell_type": "code",
   "execution_count": null,
   "metadata": {},
   "outputs": [],
   "source": []
  },
  {
   "cell_type": "code",
   "execution_count": null,
   "metadata": {},
   "outputs": [],
   "source": []
  },
  {
   "cell_type": "code",
   "execution_count": null,
   "metadata": {},
   "outputs": [],
   "source": []
  },
  {
   "cell_type": "code",
   "execution_count": null,
   "metadata": {},
   "outputs": [],
   "source": []
  },
  {
   "cell_type": "code",
   "execution_count": null,
   "metadata": {},
   "outputs": [],
   "source": []
  },
  {
   "cell_type": "code",
   "execution_count": null,
   "metadata": {},
   "outputs": [],
   "source": []
  },
  {
   "cell_type": "code",
   "execution_count": null,
   "metadata": {},
   "outputs": [],
   "source": []
  },
  {
   "cell_type": "code",
   "execution_count": null,
   "metadata": {},
   "outputs": [],
   "source": []
  },
  {
   "cell_type": "code",
   "execution_count": null,
   "metadata": {},
   "outputs": [],
   "source": []
  },
  {
   "cell_type": "code",
   "execution_count": null,
   "metadata": {},
   "outputs": [],
   "source": []
  },
  {
   "cell_type": "code",
   "execution_count": null,
   "metadata": {},
   "outputs": [],
   "source": []
  },
  {
   "cell_type": "code",
   "execution_count": null,
   "metadata": {},
   "outputs": [],
   "source": []
  },
  {
   "cell_type": "code",
   "execution_count": null,
   "metadata": {},
   "outputs": [],
   "source": []
  },
  {
   "cell_type": "code",
   "execution_count": null,
   "metadata": {},
   "outputs": [],
   "source": []
  }
 ],
 "metadata": {
  "kernelspec": {
   "display_name": "Tensorflow Py3.5",
   "language": "python",
   "name": "tensorflow"
  },
  "language_info": {
   "codemirror_mode": {
    "name": "ipython",
    "version": 3
   },
   "file_extension": ".py",
   "mimetype": "text/x-python",
   "name": "python",
   "nbconvert_exporter": "python",
   "pygments_lexer": "ipython3",
   "version": "3.5.5"
  }
 },
 "nbformat": 4,
 "nbformat_minor": 2
}
